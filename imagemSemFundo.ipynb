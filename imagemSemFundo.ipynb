{
  "nbformat": 4,
  "nbformat_minor": 0,
  "metadata": {
    "colab": {
      "provenance": [],
      "authorship_tag": "ABX9TyOM2UrAHIugLVXIYCnVb+Hq",
      "include_colab_link": true
    },
    "kernelspec": {
      "name": "python3",
      "display_name": "Python 3"
    },
    "language_info": {
      "name": "python"
    }
  },
  "cells": [
    {
      "cell_type": "markdown",
      "metadata": {
        "id": "view-in-github",
        "colab_type": "text"
      },
      "source": [
        "<a href=\"https://colab.research.google.com/github/Juliana001/Utilizades-Computacionais/blob/main/imagemSemFundo.ipynb\" target=\"_parent\"><img src=\"https://colab.research.google.com/assets/colab-badge.svg\" alt=\"Open In Colab\"/></a>"
      ]
    },
    {
      "cell_type": "code",
      "source": [
        "from rembg import remove\n",
        "from PIL import Image\n",
        "\n",
        "entrada = '/content/boloDecoradp.jpg'\n",
        "saida = '/content/PNGboloDecoradp.png'\n",
        "\n",
        "# Abrir imagem original\n",
        "imagem_original = Image.open(entrada)\n",
        "\n",
        "# Remover fundo (já retorna uma PIL.Image)\n",
        "imagem_sem_fundo = remove(imagem_original)\n",
        "\n",
        "# Salvar imagem resultante\n",
        "imagem_sem_fundo.save(saida)\n",
        "\n",
        "print(f\"Fundo removido! Arquivo salvo em: {saida}\")\n"
      ],
      "metadata": {
        "colab": {
          "base_uri": "https://localhost:8080/"
        },
        "id": "MEqGgpxm-aN1",
        "outputId": "8c7e0c39-12c5-4896-ef63-21097296b472"
      },
      "execution_count": 12,
      "outputs": [
        {
          "output_type": "stream",
          "name": "stdout",
          "text": [
            "Fundo removido! Arquivo salvo em: /content/PNGboloDecoradp.png\n"
          ]
        }
      ]
    }
  ]
}