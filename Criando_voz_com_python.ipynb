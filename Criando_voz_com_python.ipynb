{
  "nbformat": 4,
  "nbformat_minor": 0,
  "metadata": {
    "colab": {
      "provenance": [],
      "mount_file_id": "16UiD9fYCF5gdFgZl9XOFTH5VzU4aSw_X",
      "authorship_tag": "ABX9TyNO4liXaPaYsRIdWMl1Jery",
      "include_colab_link": true
    },
    "kernelspec": {
      "name": "python3",
      "display_name": "Python 3"
    },
    "language_info": {
      "name": "python"
    }
  },
  "cells": [
    {
      "cell_type": "markdown",
      "metadata": {
        "id": "view-in-github",
        "colab_type": "text"
      },
      "source": [
        "<a href=\"https://colab.research.google.com/github/Juliana001/Utilizades-Computacionais/blob/main/Criando_voz_com_python.ipynb\" target=\"_parent\"><img src=\"https://colab.research.google.com/assets/colab-badge.svg\" alt=\"Open In Colab\"/></a>"
      ]
    },
    {
      "cell_type": "code",
      "execution_count": null,
      "metadata": {
        "colab": {
          "base_uri": "https://localhost:8080/"
        },
        "id": "dMfhSGLgPCvL",
        "outputId": "d85c50a0-8d14-4c0e-bc2d-951eb19499dd"
      },
      "outputs": [
        {
          "output_type": "stream",
          "name": "stdout",
          "text": [
            "Requirement already satisfied: playsound in /usr/local/lib/python3.10/dist-packages (1.3.0)\n"
          ]
        }
      ],
      "source": [
        "!pip install playsound"
      ]
    },
    {
      "cell_type": "code",
      "source": [
        "!pip install gTTS"
      ],
      "metadata": {
        "colab": {
          "base_uri": "https://localhost:8080/"
        },
        "id": "n0z5aCukQBvK",
        "outputId": "61a07e34-fb0d-4b20-faa1-8b3ba2b6a9ee"
      },
      "execution_count": null,
      "outputs": [
        {
          "output_type": "stream",
          "name": "stdout",
          "text": [
            "Requirement already satisfied: gTTS in /usr/local/lib/python3.10/dist-packages (2.5.1)\n",
            "Requirement already satisfied: requests<3,>=2.27 in /usr/local/lib/python3.10/dist-packages (from gTTS) (2.31.0)\n",
            "Requirement already satisfied: click<8.2,>=7.1 in /usr/local/lib/python3.10/dist-packages (from gTTS) (8.1.7)\n",
            "Requirement already satisfied: charset-normalizer<4,>=2 in /usr/local/lib/python3.10/dist-packages (from requests<3,>=2.27->gTTS) (3.3.2)\n",
            "Requirement already satisfied: idna<4,>=2.5 in /usr/local/lib/python3.10/dist-packages (from requests<3,>=2.27->gTTS) (2.10)\n",
            "Requirement already satisfied: urllib3<3,>=1.21.1 in /usr/local/lib/python3.10/dist-packages (from requests<3,>=2.27->gTTS) (2.0.7)\n",
            "Requirement already satisfied: certifi>=2017.4.17 in /usr/local/lib/python3.10/dist-packages (from requests<3,>=2.27->gTTS) (2024.2.2)\n"
          ]
        }
      ]
    },
    {
      "cell_type": "code",
      "source": [
        "\n",
        "!pip install googletrans==4.0.0-rc1"
      ],
      "metadata": {
        "colab": {
          "base_uri": "https://localhost:8080/"
        },
        "id": "QtQe5cx5Wdbh",
        "outputId": "7b9530c3-0344-499d-e947-6ecf4c820081"
      },
      "execution_count": null,
      "outputs": [
        {
          "output_type": "stream",
          "name": "stdout",
          "text": [
            "Requirement already satisfied: googletrans==4.0.0-rc1 in /usr/local/lib/python3.10/dist-packages (4.0.0rc1)\n",
            "Requirement already satisfied: httpx==0.13.3 in /usr/local/lib/python3.10/dist-packages (from googletrans==4.0.0-rc1) (0.13.3)\n",
            "Requirement already satisfied: certifi in /usr/local/lib/python3.10/dist-packages (from httpx==0.13.3->googletrans==4.0.0-rc1) (2024.2.2)\n",
            "Requirement already satisfied: hstspreload in /usr/local/lib/python3.10/dist-packages (from httpx==0.13.3->googletrans==4.0.0-rc1) (2024.5.1)\n",
            "Requirement already satisfied: sniffio in /usr/local/lib/python3.10/dist-packages (from httpx==0.13.3->googletrans==4.0.0-rc1) (1.3.1)\n",
            "Requirement already satisfied: chardet==3.* in /usr/local/lib/python3.10/dist-packages (from httpx==0.13.3->googletrans==4.0.0-rc1) (3.0.4)\n",
            "Requirement already satisfied: idna==2.* in /usr/local/lib/python3.10/dist-packages (from httpx==0.13.3->googletrans==4.0.0-rc1) (2.10)\n",
            "Requirement already satisfied: rfc3986<2,>=1.3 in /usr/local/lib/python3.10/dist-packages (from httpx==0.13.3->googletrans==4.0.0-rc1) (1.5.0)\n",
            "Requirement already satisfied: httpcore==0.9.* in /usr/local/lib/python3.10/dist-packages (from httpx==0.13.3->googletrans==4.0.0-rc1) (0.9.1)\n",
            "Requirement already satisfied: h11<0.10,>=0.8 in /usr/local/lib/python3.10/dist-packages (from httpcore==0.9.*->httpx==0.13.3->googletrans==4.0.0-rc1) (0.9.0)\n",
            "Requirement already satisfied: h2==3.* in /usr/local/lib/python3.10/dist-packages (from httpcore==0.9.*->httpx==0.13.3->googletrans==4.0.0-rc1) (3.2.0)\n",
            "Requirement already satisfied: hyperframe<6,>=5.2.0 in /usr/local/lib/python3.10/dist-packages (from h2==3.*->httpcore==0.9.*->httpx==0.13.3->googletrans==4.0.0-rc1) (5.2.0)\n",
            "Requirement already satisfied: hpack<4,>=3.0 in /usr/local/lib/python3.10/dist-packages (from h2==3.*->httpcore==0.9.*->httpx==0.13.3->googletrans==4.0.0-rc1) (3.0.0)\n"
          ]
        }
      ]
    },
    {
      "cell_type": "code",
      "source": [
        "import gtts\n",
        "from google.colab import drive\n",
        "from IPython.display import Audio\n",
        "from googletrans import Translator"
      ],
      "metadata": {
        "id": "Bm4wOFpzQkBZ"
      },
      "execution_count": null,
      "outputs": []
    },
    {
      "cell_type": "code",
      "source": [
        "from playsound import playsound"
      ],
      "metadata": {
        "id": "rd6OoDP5Qpbw",
        "colab": {
          "base_uri": "https://localhost:8080/"
        },
        "outputId": "519672aa-4a88-4e59-b5e1-22a492ae180e"
      },
      "execution_count": null,
      "outputs": [
        {
          "output_type": "stream",
          "name": "stderr",
          "text": [
            "WARNING:playsound:playsound is relying on another python subprocess. Please use `pip install pygobject` if you want playsound to run more efficiently.\n"
          ]
        }
      ]
    },
    {
      "cell_type": "code",
      "source": [
        "with open('/content/drive/MyDrive/Projeto fala python/projeto fala python.txt', 'w') as arquivo:\n",
        "    # Escrever no arquivo\n",
        "    arquivo.write(\"Bora fazer o python falar, gente\\n\")"
      ],
      "metadata": {
        "id": "xWH0hrUoYQQp"
      },
      "execution_count": null,
      "outputs": []
    },
    {
      "cell_type": "code",
      "source": [
        "# Função para traduzir o conteúdo de um arquivo\n",
        "def traduzir_arquivo(caminho_arquivo, idioma_destino='en'):\n",
        "    translator = Translator()\n",
        "\n",
        "    # Abrir o arquivo para leitura\n",
        "    with open(caminho_arquivo, 'r', encoding='utf-8') as arquivo:\n",
        "        conteudo = arquivo.read()\n",
        "\n",
        "    # Traduzir o conteúdo para o idioma de destino\n",
        "    traducao = translator.translate(conteudo, dest=idioma_destino)\n",
        "\n",
        "    # Retornar o texto traduzido\n",
        "    return traducao.text\n",
        "\n",
        "# Caminho do arquivo original\n",
        "caminho_arquivo_original = '/content/drive/MyDrive/Projeto fala python/projeto fala python.txt'\n",
        "\n",
        "# Traduzindo o conteúdo do arquivo para inglês\n",
        "conteudo_traduzido = traduzir_arquivo(caminho_arquivo_original, idioma_destino='en')\n",
        "\n",
        "# Salvando a tradução como um arquivo MP3\n",
        "frase = gtts.gTTS(text=conteudo_traduzido, lang='en')\n",
        "frase.save('/content/frase_traduzida.mp3')\n",
        "\n",
        "# Reproduzindo o arquivo de áudio da tradução\n",
        "Audio('/content/frase_traduzida.mp3', autoplay=True)"
      ],
      "metadata": {
        "colab": {
          "base_uri": "https://localhost:8080/",
          "height": 76
        },
        "id": "7MKECEtORd-p",
        "outputId": "c663b40b-c8f5-4246-ebaa-9ca333a3647c"
      },
      "execution_count": null,
      "outputs": [
        {
          "output_type": "execute_result",
          "data": {
            "text/plain": [
              "<IPython.lib.display.Audio object>"
            ],
            "text/html": [
              "\n",
              "                <audio  controls=\"controls\" autoplay=\"autoplay\">\n",
              "                    <source src=\"data:audio/mpeg;base64,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\" type=\"audio/mpeg\" />\n",
              "                    Your browser does not support the audio element.\n",
              "                </audio>\n",
              "              "
            ]
          },
          "metadata": {},
          "execution_count": 19
        }
      ]
    }
  ]
}